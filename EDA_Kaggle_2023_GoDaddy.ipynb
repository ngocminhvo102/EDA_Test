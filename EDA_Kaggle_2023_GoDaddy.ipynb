{
 "cells": [
  {
   "cell_type": "markdown",
   "id": "ef138f57",
   "metadata": {},
   "source": [
    "# 1.Loading the Data"
   ]
  },
  {
   "cell_type": "code",
   "execution_count": 1,
   "id": "659e6438",
   "metadata": {},
   "outputs": [],
   "source": [
    "import pandas as pd\n",
    "import numpy as np\n",
    "import matplotlib.pyplot as plt\n",
    "import seaborn as sns"
   ]
  },
  {
   "cell_type": "code",
   "execution_count": 2,
   "id": "9033d234",
   "metadata": {},
   "outputs": [],
   "source": [
    "train_df   = pd.read_csv(\"./Data/train.csv\")\n",
    "test_df    = pd.read_csv(\"./Data/test.csv\")\n",
    "census_df  = pd.read_csv(\"./Data/census_starter.csv\")"
   ]
  },
  {
   "cell_type": "markdown",
   "id": "1186b801",
   "metadata": {},
   "source": [
    "## 2.Overview Dataset"
   ]
  },
  {
   "cell_type": "code",
   "execution_count": 84,
   "id": "a662bf3f",
   "metadata": {},
   "outputs": [
    {
     "data": {
      "text/plain": [
       "Index(['row_id', 'cfips', 'county', 'state', 'first_day_of_month',\n",
       "       'microbusiness_density', 'active'],\n",
       "      dtype='object')"
      ]
     },
     "execution_count": 84,
     "metadata": {},
     "output_type": "execute_result"
    }
   ],
   "source": [
    "train_df.columns"
   ]
  },
  {
   "cell_type": "code",
   "execution_count": 68,
   "id": "4addbef7",
   "metadata": {},
   "outputs": [
    {
     "data": {
      "text/plain": [
       "Index(['row_id', 'cfips', 'first_day_of_month'], dtype='object')"
      ]
     },
     "execution_count": 68,
     "metadata": {},
     "output_type": "execute_result"
    }
   ],
   "source": [
    "test_df.columns"
   ]
  },
  {
   "cell_type": "code",
   "execution_count": 69,
   "id": "0a298831",
   "metadata": {},
   "outputs": [
    {
     "data": {
      "text/plain": [
       "Index(['pct_bb_2017', 'pct_bb_2018', 'pct_bb_2019', 'pct_bb_2020',\n",
       "       'pct_bb_2021', 'cfips', 'pct_college_2017', 'pct_college_2018',\n",
       "       'pct_college_2019', 'pct_college_2020', 'pct_college_2021',\n",
       "       'pct_foreign_born_2017', 'pct_foreign_born_2018',\n",
       "       'pct_foreign_born_2019', 'pct_foreign_born_2020',\n",
       "       'pct_foreign_born_2021', 'pct_it_workers_2017', 'pct_it_workers_2018',\n",
       "       'pct_it_workers_2019', 'pct_it_workers_2020', 'pct_it_workers_2021',\n",
       "       'median_hh_inc_2017', 'median_hh_inc_2018', 'median_hh_inc_2019',\n",
       "       'median_hh_inc_2020', 'median_hh_inc_2021'],\n",
       "      dtype='object')"
      ]
     },
     "execution_count": 69,
     "metadata": {},
     "output_type": "execute_result"
    }
   ],
   "source": [
    "census_df.columns"
   ]
  },
  {
   "cell_type": "code",
   "execution_count": 70,
   "id": "7451ca3a",
   "metadata": {
    "scrolled": true
   },
   "outputs": [
    {
     "data": {
      "text/html": [
       "<div>\n",
       "<style scoped>\n",
       "    .dataframe tbody tr th:only-of-type {\n",
       "        vertical-align: middle;\n",
       "    }\n",
       "\n",
       "    .dataframe tbody tr th {\n",
       "        vertical-align: top;\n",
       "    }\n",
       "\n",
       "    .dataframe thead th {\n",
       "        text-align: right;\n",
       "    }\n",
       "</style>\n",
       "<table border=\"1\" class=\"dataframe\">\n",
       "  <thead>\n",
       "    <tr style=\"text-align: right;\">\n",
       "      <th></th>\n",
       "      <th>row_id</th>\n",
       "      <th>cfips</th>\n",
       "      <th>county</th>\n",
       "      <th>state</th>\n",
       "      <th>first_day_of_month</th>\n",
       "      <th>microbusiness_density</th>\n",
       "      <th>active</th>\n",
       "    </tr>\n",
       "  </thead>\n",
       "  <tbody>\n",
       "    <tr>\n",
       "      <th>0</th>\n",
       "      <td>1001_2019-08-01</td>\n",
       "      <td>1001</td>\n",
       "      <td>Autauga County</td>\n",
       "      <td>Alabama</td>\n",
       "      <td>2019-08-01</td>\n",
       "      <td>3.007682</td>\n",
       "      <td>1249</td>\n",
       "    </tr>\n",
       "    <tr>\n",
       "      <th>1</th>\n",
       "      <td>1001_2019-09-01</td>\n",
       "      <td>1001</td>\n",
       "      <td>Autauga County</td>\n",
       "      <td>Alabama</td>\n",
       "      <td>2019-09-01</td>\n",
       "      <td>2.884870</td>\n",
       "      <td>1198</td>\n",
       "    </tr>\n",
       "    <tr>\n",
       "      <th>2</th>\n",
       "      <td>1001_2019-10-01</td>\n",
       "      <td>1001</td>\n",
       "      <td>Autauga County</td>\n",
       "      <td>Alabama</td>\n",
       "      <td>2019-10-01</td>\n",
       "      <td>3.055843</td>\n",
       "      <td>1269</td>\n",
       "    </tr>\n",
       "    <tr>\n",
       "      <th>3</th>\n",
       "      <td>1001_2019-11-01</td>\n",
       "      <td>1001</td>\n",
       "      <td>Autauga County</td>\n",
       "      <td>Alabama</td>\n",
       "      <td>2019-11-01</td>\n",
       "      <td>2.993233</td>\n",
       "      <td>1243</td>\n",
       "    </tr>\n",
       "    <tr>\n",
       "      <th>4</th>\n",
       "      <td>1001_2019-12-01</td>\n",
       "      <td>1001</td>\n",
       "      <td>Autauga County</td>\n",
       "      <td>Alabama</td>\n",
       "      <td>2019-12-01</td>\n",
       "      <td>2.993233</td>\n",
       "      <td>1243</td>\n",
       "    </tr>\n",
       "  </tbody>\n",
       "</table>\n",
       "</div>"
      ],
      "text/plain": [
       "            row_id  cfips          county    state first_day_of_month  \\\n",
       "0  1001_2019-08-01   1001  Autauga County  Alabama         2019-08-01   \n",
       "1  1001_2019-09-01   1001  Autauga County  Alabama         2019-09-01   \n",
       "2  1001_2019-10-01   1001  Autauga County  Alabama         2019-10-01   \n",
       "3  1001_2019-11-01   1001  Autauga County  Alabama         2019-11-01   \n",
       "4  1001_2019-12-01   1001  Autauga County  Alabama         2019-12-01   \n",
       "\n",
       "   microbusiness_density  active  \n",
       "0               3.007682    1249  \n",
       "1               2.884870    1198  \n",
       "2               3.055843    1269  \n",
       "3               2.993233    1243  \n",
       "4               2.993233    1243  "
      ]
     },
     "execution_count": 70,
     "metadata": {},
     "output_type": "execute_result"
    }
   ],
   "source": [
    "train_df.head()"
   ]
  },
  {
   "cell_type": "code",
   "execution_count": 71,
   "id": "8e3b93c4",
   "metadata": {
    "scrolled": true
   },
   "outputs": [
    {
     "data": {
      "text/html": [
       "<div>\n",
       "<style scoped>\n",
       "    .dataframe tbody tr th:only-of-type {\n",
       "        vertical-align: middle;\n",
       "    }\n",
       "\n",
       "    .dataframe tbody tr th {\n",
       "        vertical-align: top;\n",
       "    }\n",
       "\n",
       "    .dataframe thead th {\n",
       "        text-align: right;\n",
       "    }\n",
       "</style>\n",
       "<table border=\"1\" class=\"dataframe\">\n",
       "  <thead>\n",
       "    <tr style=\"text-align: right;\">\n",
       "      <th></th>\n",
       "      <th>row_id</th>\n",
       "      <th>cfips</th>\n",
       "      <th>first_day_of_month</th>\n",
       "    </tr>\n",
       "  </thead>\n",
       "  <tbody>\n",
       "    <tr>\n",
       "      <th>0</th>\n",
       "      <td>1001_2022-11-01</td>\n",
       "      <td>1001</td>\n",
       "      <td>2022-11-01</td>\n",
       "    </tr>\n",
       "    <tr>\n",
       "      <th>1</th>\n",
       "      <td>1003_2022-11-01</td>\n",
       "      <td>1003</td>\n",
       "      <td>2022-11-01</td>\n",
       "    </tr>\n",
       "    <tr>\n",
       "      <th>2</th>\n",
       "      <td>1005_2022-11-01</td>\n",
       "      <td>1005</td>\n",
       "      <td>2022-11-01</td>\n",
       "    </tr>\n",
       "    <tr>\n",
       "      <th>3</th>\n",
       "      <td>1007_2022-11-01</td>\n",
       "      <td>1007</td>\n",
       "      <td>2022-11-01</td>\n",
       "    </tr>\n",
       "    <tr>\n",
       "      <th>4</th>\n",
       "      <td>1009_2022-11-01</td>\n",
       "      <td>1009</td>\n",
       "      <td>2022-11-01</td>\n",
       "    </tr>\n",
       "  </tbody>\n",
       "</table>\n",
       "</div>"
      ],
      "text/plain": [
       "            row_id  cfips first_day_of_month\n",
       "0  1001_2022-11-01   1001         2022-11-01\n",
       "1  1003_2022-11-01   1003         2022-11-01\n",
       "2  1005_2022-11-01   1005         2022-11-01\n",
       "3  1007_2022-11-01   1007         2022-11-01\n",
       "4  1009_2022-11-01   1009         2022-11-01"
      ]
     },
     "execution_count": 71,
     "metadata": {},
     "output_type": "execute_result"
    }
   ],
   "source": [
    "test_df.head()"
   ]
  },
  {
   "cell_type": "code",
   "execution_count": 72,
   "id": "28bb7a30",
   "metadata": {},
   "outputs": [
    {
     "data": {
      "text/html": [
       "<div>\n",
       "<style scoped>\n",
       "    .dataframe tbody tr th:only-of-type {\n",
       "        vertical-align: middle;\n",
       "    }\n",
       "\n",
       "    .dataframe tbody tr th {\n",
       "        vertical-align: top;\n",
       "    }\n",
       "\n",
       "    .dataframe thead th {\n",
       "        text-align: right;\n",
       "    }\n",
       "</style>\n",
       "<table border=\"1\" class=\"dataframe\">\n",
       "  <thead>\n",
       "    <tr style=\"text-align: right;\">\n",
       "      <th></th>\n",
       "      <th>pct_bb_2017</th>\n",
       "      <th>pct_bb_2018</th>\n",
       "      <th>pct_bb_2019</th>\n",
       "      <th>pct_bb_2020</th>\n",
       "      <th>pct_bb_2021</th>\n",
       "      <th>cfips</th>\n",
       "      <th>pct_college_2017</th>\n",
       "      <th>pct_college_2018</th>\n",
       "      <th>pct_college_2019</th>\n",
       "      <th>pct_college_2020</th>\n",
       "      <th>...</th>\n",
       "      <th>pct_it_workers_2017</th>\n",
       "      <th>pct_it_workers_2018</th>\n",
       "      <th>pct_it_workers_2019</th>\n",
       "      <th>pct_it_workers_2020</th>\n",
       "      <th>pct_it_workers_2021</th>\n",
       "      <th>median_hh_inc_2017</th>\n",
       "      <th>median_hh_inc_2018</th>\n",
       "      <th>median_hh_inc_2019</th>\n",
       "      <th>median_hh_inc_2020</th>\n",
       "      <th>median_hh_inc_2021</th>\n",
       "    </tr>\n",
       "  </thead>\n",
       "  <tbody>\n",
       "    <tr>\n",
       "      <th>0</th>\n",
       "      <td>76.6</td>\n",
       "      <td>78.9</td>\n",
       "      <td>80.6</td>\n",
       "      <td>82.7</td>\n",
       "      <td>85.5</td>\n",
       "      <td>1001</td>\n",
       "      <td>14.5</td>\n",
       "      <td>15.9</td>\n",
       "      <td>16.1</td>\n",
       "      <td>16.7</td>\n",
       "      <td>...</td>\n",
       "      <td>1.3</td>\n",
       "      <td>1.1</td>\n",
       "      <td>0.7</td>\n",
       "      <td>0.6</td>\n",
       "      <td>1.1</td>\n",
       "      <td>55317</td>\n",
       "      <td>58786.0</td>\n",
       "      <td>58731</td>\n",
       "      <td>57982.0</td>\n",
       "      <td>62660.0</td>\n",
       "    </tr>\n",
       "    <tr>\n",
       "      <th>1</th>\n",
       "      <td>74.5</td>\n",
       "      <td>78.1</td>\n",
       "      <td>81.8</td>\n",
       "      <td>85.1</td>\n",
       "      <td>87.9</td>\n",
       "      <td>1003</td>\n",
       "      <td>20.4</td>\n",
       "      <td>20.7</td>\n",
       "      <td>21.0</td>\n",
       "      <td>20.2</td>\n",
       "      <td>...</td>\n",
       "      <td>1.4</td>\n",
       "      <td>1.3</td>\n",
       "      <td>1.4</td>\n",
       "      <td>1.0</td>\n",
       "      <td>1.3</td>\n",
       "      <td>52562</td>\n",
       "      <td>55962.0</td>\n",
       "      <td>58320</td>\n",
       "      <td>61756.0</td>\n",
       "      <td>64346.0</td>\n",
       "    </tr>\n",
       "    <tr>\n",
       "      <th>2</th>\n",
       "      <td>57.2</td>\n",
       "      <td>60.4</td>\n",
       "      <td>60.5</td>\n",
       "      <td>64.6</td>\n",
       "      <td>64.6</td>\n",
       "      <td>1005</td>\n",
       "      <td>7.6</td>\n",
       "      <td>7.8</td>\n",
       "      <td>7.6</td>\n",
       "      <td>7.3</td>\n",
       "      <td>...</td>\n",
       "      <td>0.5</td>\n",
       "      <td>0.3</td>\n",
       "      <td>0.8</td>\n",
       "      <td>1.1</td>\n",
       "      <td>0.8</td>\n",
       "      <td>33368</td>\n",
       "      <td>34186.0</td>\n",
       "      <td>32525</td>\n",
       "      <td>34990.0</td>\n",
       "      <td>36422.0</td>\n",
       "    </tr>\n",
       "  </tbody>\n",
       "</table>\n",
       "<p>3 rows × 26 columns</p>\n",
       "</div>"
      ],
      "text/plain": [
       "   pct_bb_2017  pct_bb_2018  pct_bb_2019  pct_bb_2020  pct_bb_2021  cfips  \\\n",
       "0         76.6         78.9         80.6         82.7         85.5   1001   \n",
       "1         74.5         78.1         81.8         85.1         87.9   1003   \n",
       "2         57.2         60.4         60.5         64.6         64.6   1005   \n",
       "\n",
       "   pct_college_2017  pct_college_2018  pct_college_2019  pct_college_2020  \\\n",
       "0              14.5              15.9              16.1              16.7   \n",
       "1              20.4              20.7              21.0              20.2   \n",
       "2               7.6               7.8               7.6               7.3   \n",
       "\n",
       "   ...  pct_it_workers_2017  pct_it_workers_2018  pct_it_workers_2019  \\\n",
       "0  ...                  1.3                  1.1                  0.7   \n",
       "1  ...                  1.4                  1.3                  1.4   \n",
       "2  ...                  0.5                  0.3                  0.8   \n",
       "\n",
       "   pct_it_workers_2020  pct_it_workers_2021  median_hh_inc_2017  \\\n",
       "0                  0.6                  1.1               55317   \n",
       "1                  1.0                  1.3               52562   \n",
       "2                  1.1                  0.8               33368   \n",
       "\n",
       "   median_hh_inc_2018  median_hh_inc_2019  median_hh_inc_2020  \\\n",
       "0             58786.0               58731             57982.0   \n",
       "1             55962.0               58320             61756.0   \n",
       "2             34186.0               32525             34990.0   \n",
       "\n",
       "   median_hh_inc_2021  \n",
       "0             62660.0  \n",
       "1             64346.0  \n",
       "2             36422.0  \n",
       "\n",
       "[3 rows x 26 columns]"
      ]
     },
     "execution_count": 72,
     "metadata": {},
     "output_type": "execute_result"
    }
   ],
   "source": [
    "census_df.head(3)"
   ]
  },
  {
   "cell_type": "markdown",
   "id": "c90c25d1",
   "metadata": {},
   "source": [
    "## 3.Check Missing Values in Dataset"
   ]
  },
  {
   "cell_type": "markdown",
   "id": "8ceb58ff",
   "metadata": {},
   "source": [
    "## 3.1 Check Missing Values of train.csv "
   ]
  },
  {
   "cell_type": "code",
   "execution_count": 73,
   "id": "a6e697bf",
   "metadata": {},
   "outputs": [
    {
     "name": "stdout",
     "output_type": "stream",
     "text": [
      "<class 'pandas.core.frame.DataFrame'>\n",
      "RangeIndex: 122265 entries, 0 to 122264\n",
      "Data columns (total 7 columns):\n",
      " #   Column                 Non-Null Count   Dtype  \n",
      "---  ------                 --------------   -----  \n",
      " 0   row_id                 122265 non-null  object \n",
      " 1   cfips                  122265 non-null  int64  \n",
      " 2   county                 122265 non-null  object \n",
      " 3   state                  122265 non-null  object \n",
      " 4   first_day_of_month     122265 non-null  object \n",
      " 5   microbusiness_density  122265 non-null  float64\n",
      " 6   active                 122265 non-null  int64  \n",
      "dtypes: float64(1), int64(2), object(4)\n",
      "memory usage: 6.5+ MB\n"
     ]
    }
   ],
   "source": [
    "##Check Missing Values of train.csv \n",
    "train_df.info()"
   ]
  },
  {
   "cell_type": "code",
   "execution_count": 74,
   "id": "b508fb93",
   "metadata": {},
   "outputs": [
    {
     "data": {
      "text/plain": [
       "row_id                   0\n",
       "cfips                    0\n",
       "county                   0\n",
       "state                    0\n",
       "first_day_of_month       0\n",
       "microbusiness_density    0\n",
       "active                   0\n",
       "dtype: int64"
      ]
     },
     "execution_count": 74,
     "metadata": {},
     "output_type": "execute_result"
    }
   ],
   "source": [
    "##Check Missing Values of train.csv \n",
    "train_df.isnull().sum()\n"
   ]
  },
  {
   "cell_type": "markdown",
   "id": "d44ea277",
   "metadata": {},
   "source": [
    "## Result: train.csv --> Values is non-null"
   ]
  },
  {
   "cell_type": "markdown",
   "id": "c4bebcbf",
   "metadata": {},
   "source": [
    "## 3.2 Check Missing Values of test.csv "
   ]
  },
  {
   "cell_type": "code",
   "execution_count": 75,
   "id": "2fedc9e5",
   "metadata": {},
   "outputs": [
    {
     "name": "stdout",
     "output_type": "stream",
     "text": [
      "<class 'pandas.core.frame.DataFrame'>\n",
      "RangeIndex: 25080 entries, 0 to 25079\n",
      "Data columns (total 3 columns):\n",
      " #   Column              Non-Null Count  Dtype \n",
      "---  ------              --------------  ----- \n",
      " 0   row_id              25080 non-null  object\n",
      " 1   cfips               25080 non-null  int64 \n",
      " 2   first_day_of_month  25080 non-null  object\n",
      "dtypes: int64(1), object(2)\n",
      "memory usage: 587.9+ KB\n"
     ]
    }
   ],
   "source": [
    "##Check Missing Values of test.csv \n",
    "test_df.info()"
   ]
  },
  {
   "cell_type": "code",
   "execution_count": 76,
   "id": "bb91c0aa",
   "metadata": {},
   "outputs": [
    {
     "data": {
      "text/plain": [
       "row_id                0\n",
       "cfips                 0\n",
       "first_day_of_month    0\n",
       "dtype: int64"
      ]
     },
     "execution_count": 76,
     "metadata": {},
     "output_type": "execute_result"
    }
   ],
   "source": [
    "##Check Missing Values of test.csv \n",
    "test_df.isnull().sum()"
   ]
  },
  {
   "cell_type": "markdown",
   "id": "1b97a1a3",
   "metadata": {},
   "source": [
    "## Result: test.csv  --> Values is non-null"
   ]
  },
  {
   "cell_type": "markdown",
   "id": "bbaa0a89",
   "metadata": {},
   "source": [
    "## 3.3 Check Missing Values of census_starter.csv "
   ]
  },
  {
   "cell_type": "code",
   "execution_count": 77,
   "id": "6ab6233d",
   "metadata": {},
   "outputs": [
    {
     "name": "stdout",
     "output_type": "stream",
     "text": [
      "<class 'pandas.core.frame.DataFrame'>\n",
      "RangeIndex: 3142 entries, 0 to 3141\n",
      "Data columns (total 26 columns):\n",
      " #   Column                 Non-Null Count  Dtype  \n",
      "---  ------                 --------------  -----  \n",
      " 0   pct_bb_2017            3142 non-null   float64\n",
      " 1   pct_bb_2018            3142 non-null   float64\n",
      " 2   pct_bb_2019            3142 non-null   float64\n",
      " 3   pct_bb_2020            3141 non-null   float64\n",
      " 4   pct_bb_2021            3141 non-null   float64\n",
      " 5   cfips                  3142 non-null   int64  \n",
      " 6   pct_college_2017       3142 non-null   float64\n",
      " 7   pct_college_2018       3142 non-null   float64\n",
      " 8   pct_college_2019       3142 non-null   float64\n",
      " 9   pct_college_2020       3141 non-null   float64\n",
      " 10  pct_college_2021       3141 non-null   float64\n",
      " 11  pct_foreign_born_2017  3142 non-null   float64\n",
      " 12  pct_foreign_born_2018  3142 non-null   float64\n",
      " 13  pct_foreign_born_2019  3142 non-null   float64\n",
      " 14  pct_foreign_born_2020  3141 non-null   float64\n",
      " 15  pct_foreign_born_2021  3141 non-null   float64\n",
      " 16  pct_it_workers_2017    3142 non-null   float64\n",
      " 17  pct_it_workers_2018    3141 non-null   float64\n",
      " 18  pct_it_workers_2019    3142 non-null   float64\n",
      " 19  pct_it_workers_2020    3141 non-null   float64\n",
      " 20  pct_it_workers_2021    3141 non-null   float64\n",
      " 21  median_hh_inc_2017     3142 non-null   int64  \n",
      " 22  median_hh_inc_2018     3141 non-null   float64\n",
      " 23  median_hh_inc_2019     3142 non-null   int64  \n",
      " 24  median_hh_inc_2020     3140 non-null   float64\n",
      " 25  median_hh_inc_2021     3140 non-null   float64\n",
      "dtypes: float64(23), int64(3)\n",
      "memory usage: 638.3 KB\n"
     ]
    }
   ],
   "source": [
    "census_df.info()"
   ]
  },
  {
   "cell_type": "code",
   "execution_count": 78,
   "id": "0e91837c",
   "metadata": {},
   "outputs": [
    {
     "data": {
      "text/plain": [
       "pct_bb_2017              0\n",
       "pct_bb_2018              0\n",
       "pct_bb_2019              0\n",
       "pct_bb_2020              1\n",
       "pct_bb_2021              1\n",
       "cfips                    0\n",
       "pct_college_2017         0\n",
       "pct_college_2018         0\n",
       "pct_college_2019         0\n",
       "pct_college_2020         1\n",
       "pct_college_2021         1\n",
       "pct_foreign_born_2017    0\n",
       "pct_foreign_born_2018    0\n",
       "pct_foreign_born_2019    0\n",
       "pct_foreign_born_2020    1\n",
       "pct_foreign_born_2021    1\n",
       "pct_it_workers_2017      0\n",
       "pct_it_workers_2018      1\n",
       "pct_it_workers_2019      0\n",
       "pct_it_workers_2020      1\n",
       "pct_it_workers_2021      1\n",
       "median_hh_inc_2017       0\n",
       "median_hh_inc_2018       1\n",
       "median_hh_inc_2019       0\n",
       "median_hh_inc_2020       2\n",
       "median_hh_inc_2021       2\n",
       "dtype: int64"
      ]
     },
     "execution_count": 78,
     "metadata": {},
     "output_type": "execute_result"
    }
   ],
   "source": [
    "##Check Missing Values of census_starter.csv \n",
    "census_df.isnull().sum()"
   ]
  },
  {
   "cell_type": "markdown",
   "id": "953f0004",
   "metadata": {},
   "source": [
    "## Result: census.csv--> Null values :  \n",
    "pct_bb_2020, pct_bb_2021, pct_college_2020, pct_college_2021, pct_foreign_born_2020, pct_foreign_born_2021, pct_it_workers_2018, pct_it_workers_2020, pct_it_workers_2021, median_hh_inc_2018, edian_hh_inc_2020, median_hh_inc_2021.\n",
    "\n"
   ]
  },
  {
   "cell_type": "markdown",
   "id": "c4664917",
   "metadata": {},
   "source": [
    "## 4. EDA\n"
   ]
  },
  {
   "cell_type": "code",
   "execution_count": 79,
   "id": "cd27f1f8",
   "metadata": {},
   "outputs": [],
   "source": [
    "# converting first_day_of_month column to date\n",
    "train_df[\"first_day_of_month\"] = train_df[\"first_day_of_month\"].apply(lambda x: pd.to_datetime(x))\n",
    "\n",
    "# sorting values \n",
    "train_df = train_df.sort_values(['cfips', 'first_day_of_month'])"
   ]
  },
  {
   "cell_type": "code",
   "execution_count": 80,
   "id": "947c7459",
   "metadata": {
    "scrolled": false
   },
   "outputs": [
    {
     "data": {
      "text/html": [
       "<div>\n",
       "<style scoped>\n",
       "    .dataframe tbody tr th:only-of-type {\n",
       "        vertical-align: middle;\n",
       "    }\n",
       "\n",
       "    .dataframe tbody tr th {\n",
       "        vertical-align: top;\n",
       "    }\n",
       "\n",
       "    .dataframe thead th {\n",
       "        text-align: right;\n",
       "    }\n",
       "</style>\n",
       "<table border=\"1\" class=\"dataframe\">\n",
       "  <thead>\n",
       "    <tr style=\"text-align: right;\">\n",
       "      <th></th>\n",
       "      <th>row_id</th>\n",
       "      <th>county</th>\n",
       "      <th>state</th>\n",
       "      <th>first_day_of_month</th>\n",
       "      <th>microbusiness_density</th>\n",
       "      <th>active</th>\n",
       "    </tr>\n",
       "    <tr>\n",
       "      <th>cfips</th>\n",
       "      <th></th>\n",
       "      <th></th>\n",
       "      <th></th>\n",
       "      <th></th>\n",
       "      <th></th>\n",
       "      <th></th>\n",
       "    </tr>\n",
       "  </thead>\n",
       "  <tbody>\n",
       "    <tr>\n",
       "      <th>1001</th>\n",
       "      <td>39</td>\n",
       "      <td>39</td>\n",
       "      <td>39</td>\n",
       "      <td>39</td>\n",
       "      <td>39</td>\n",
       "      <td>39</td>\n",
       "    </tr>\n",
       "    <tr>\n",
       "      <th>1003</th>\n",
       "      <td>39</td>\n",
       "      <td>39</td>\n",
       "      <td>39</td>\n",
       "      <td>39</td>\n",
       "      <td>39</td>\n",
       "      <td>39</td>\n",
       "    </tr>\n",
       "    <tr>\n",
       "      <th>1005</th>\n",
       "      <td>39</td>\n",
       "      <td>39</td>\n",
       "      <td>39</td>\n",
       "      <td>39</td>\n",
       "      <td>39</td>\n",
       "      <td>39</td>\n",
       "    </tr>\n",
       "    <tr>\n",
       "      <th>1007</th>\n",
       "      <td>39</td>\n",
       "      <td>39</td>\n",
       "      <td>39</td>\n",
       "      <td>39</td>\n",
       "      <td>39</td>\n",
       "      <td>39</td>\n",
       "    </tr>\n",
       "    <tr>\n",
       "      <th>1009</th>\n",
       "      <td>39</td>\n",
       "      <td>39</td>\n",
       "      <td>39</td>\n",
       "      <td>39</td>\n",
       "      <td>39</td>\n",
       "      <td>39</td>\n",
       "    </tr>\n",
       "    <tr>\n",
       "      <th>...</th>\n",
       "      <td>...</td>\n",
       "      <td>...</td>\n",
       "      <td>...</td>\n",
       "      <td>...</td>\n",
       "      <td>...</td>\n",
       "      <td>...</td>\n",
       "    </tr>\n",
       "    <tr>\n",
       "      <th>56037</th>\n",
       "      <td>39</td>\n",
       "      <td>39</td>\n",
       "      <td>39</td>\n",
       "      <td>39</td>\n",
       "      <td>39</td>\n",
       "      <td>39</td>\n",
       "    </tr>\n",
       "    <tr>\n",
       "      <th>56039</th>\n",
       "      <td>39</td>\n",
       "      <td>39</td>\n",
       "      <td>39</td>\n",
       "      <td>39</td>\n",
       "      <td>39</td>\n",
       "      <td>39</td>\n",
       "    </tr>\n",
       "    <tr>\n",
       "      <th>56041</th>\n",
       "      <td>39</td>\n",
       "      <td>39</td>\n",
       "      <td>39</td>\n",
       "      <td>39</td>\n",
       "      <td>39</td>\n",
       "      <td>39</td>\n",
       "    </tr>\n",
       "    <tr>\n",
       "      <th>56043</th>\n",
       "      <td>39</td>\n",
       "      <td>39</td>\n",
       "      <td>39</td>\n",
       "      <td>39</td>\n",
       "      <td>39</td>\n",
       "      <td>39</td>\n",
       "    </tr>\n",
       "    <tr>\n",
       "      <th>56045</th>\n",
       "      <td>39</td>\n",
       "      <td>39</td>\n",
       "      <td>39</td>\n",
       "      <td>39</td>\n",
       "      <td>39</td>\n",
       "      <td>39</td>\n",
       "    </tr>\n",
       "  </tbody>\n",
       "</table>\n",
       "<p>3135 rows × 6 columns</p>\n",
       "</div>"
      ],
      "text/plain": [
       "       row_id  county  state  first_day_of_month  microbusiness_density  \\\n",
       "cfips                                                                     \n",
       "1001       39      39     39                  39                     39   \n",
       "1003       39      39     39                  39                     39   \n",
       "1005       39      39     39                  39                     39   \n",
       "1007       39      39     39                  39                     39   \n",
       "1009       39      39     39                  39                     39   \n",
       "...       ...     ...    ...                 ...                    ...   \n",
       "56037      39      39     39                  39                     39   \n",
       "56039      39      39     39                  39                     39   \n",
       "56041      39      39     39                  39                     39   \n",
       "56043      39      39     39                  39                     39   \n",
       "56045      39      39     39                  39                     39   \n",
       "\n",
       "       active  \n",
       "cfips          \n",
       "1001       39  \n",
       "1003       39  \n",
       "1005       39  \n",
       "1007       39  \n",
       "1009       39  \n",
       "...       ...  \n",
       "56037      39  \n",
       "56039      39  \n",
       "56041      39  \n",
       "56043      39  \n",
       "56045      39  \n",
       "\n",
       "[3135 rows x 6 columns]"
      ]
     },
     "execution_count": 80,
     "metadata": {},
     "output_type": "execute_result"
    }
   ],
   "source": [
    "train_df.groupby('cfips').count()"
   ]
  },
  {
   "cell_type": "markdown",
   "id": "15553727",
   "metadata": {},
   "source": [
    "## 4.1 Distribution of Numerical feature values across the samples\n"
   ]
  },
  {
   "cell_type": "code",
   "execution_count": 13,
   "id": "d4fd9838",
   "metadata": {},
   "outputs": [
    {
     "data": {
      "text/html": [
       "<div>\n",
       "<style scoped>\n",
       "    .dataframe tbody tr th:only-of-type {\n",
       "        vertical-align: middle;\n",
       "    }\n",
       "\n",
       "    .dataframe tbody tr th {\n",
       "        vertical-align: top;\n",
       "    }\n",
       "\n",
       "    .dataframe thead th {\n",
       "        text-align: right;\n",
       "    }\n",
       "</style>\n",
       "<table border=\"1\" class=\"dataframe\">\n",
       "  <thead>\n",
       "    <tr style=\"text-align: right;\">\n",
       "      <th></th>\n",
       "      <th>cfips</th>\n",
       "      <th>microbusiness_density</th>\n",
       "      <th>active</th>\n",
       "    </tr>\n",
       "  </thead>\n",
       "  <tbody>\n",
       "    <tr>\n",
       "      <th>count</th>\n",
       "      <td>122265.000000</td>\n",
       "      <td>122265.000000</td>\n",
       "      <td>1.222650e+05</td>\n",
       "    </tr>\n",
       "    <tr>\n",
       "      <th>mean</th>\n",
       "      <td>30376.037640</td>\n",
       "      <td>3.817671</td>\n",
       "      <td>6.442858e+03</td>\n",
       "    </tr>\n",
       "    <tr>\n",
       "      <th>std</th>\n",
       "      <td>15143.508721</td>\n",
       "      <td>4.991087</td>\n",
       "      <td>3.304001e+04</td>\n",
       "    </tr>\n",
       "    <tr>\n",
       "      <th>min</th>\n",
       "      <td>1001.000000</td>\n",
       "      <td>0.000000</td>\n",
       "      <td>0.000000e+00</td>\n",
       "    </tr>\n",
       "    <tr>\n",
       "      <th>25%</th>\n",
       "      <td>18177.000000</td>\n",
       "      <td>1.639344</td>\n",
       "      <td>1.450000e+02</td>\n",
       "    </tr>\n",
       "    <tr>\n",
       "      <th>50%</th>\n",
       "      <td>29173.000000</td>\n",
       "      <td>2.586543</td>\n",
       "      <td>4.880000e+02</td>\n",
       "    </tr>\n",
       "    <tr>\n",
       "      <th>75%</th>\n",
       "      <td>45077.000000</td>\n",
       "      <td>4.519231</td>\n",
       "      <td>2.124000e+03</td>\n",
       "    </tr>\n",
       "    <tr>\n",
       "      <th>max</th>\n",
       "      <td>56045.000000</td>\n",
       "      <td>284.340030</td>\n",
       "      <td>1.167744e+06</td>\n",
       "    </tr>\n",
       "  </tbody>\n",
       "</table>\n",
       "</div>"
      ],
      "text/plain": [
       "               cfips  microbusiness_density        active\n",
       "count  122265.000000          122265.000000  1.222650e+05\n",
       "mean    30376.037640               3.817671  6.442858e+03\n",
       "std     15143.508721               4.991087  3.304001e+04\n",
       "min      1001.000000               0.000000  0.000000e+00\n",
       "25%     18177.000000               1.639344  1.450000e+02\n",
       "50%     29173.000000               2.586543  4.880000e+02\n",
       "75%     45077.000000               4.519231  2.124000e+03\n",
       "max     56045.000000             284.340030  1.167744e+06"
      ]
     },
     "execution_count": 13,
     "metadata": {},
     "output_type": "execute_result"
    }
   ],
   "source": [
    "train_df.describe()"
   ]
  },
  {
   "cell_type": "markdown",
   "id": "3f7a0b30",
   "metadata": {},
   "source": [
    "## 4.2 Finding outliers using statistical methods\n",
    "## Box Plot and Histogram\n"
   ]
  },
  {
   "cell_type": "code",
   "execution_count": 20,
   "id": "263f93da",
   "metadata": {},
   "outputs": [
    {
     "data": {
      "image/png": "[encoded data removed]",
      "text/plain": [
       "<Figure size 640x480 with 1 Axes>"
      ]
     },
     "metadata": {},
     "output_type": "display_data"
    }
   ],
   "source": [
    "x = train_df[[\"microbusiness_density\"]]\n",
    "plt.boxplot(x)\n",
    "\n",
    "plt.show()"
   ]
  },
  {
   "cell_type": "code",
   "execution_count": 34,
   "id": "2f0b72e3",
   "metadata": {
    "scrolled": true
   },
   "outputs": [
    {
     "data": {
      "image/png": "[encoded data removed]",
      "text/plain": [
       "<Figure size 1500x500 with 2 Axes>"
      ]
     },
     "metadata": {},
     "output_type": "display_data"
    }
   ],
   "source": [
    "fig, axes = plt.subplots(nrows=1, ncols=2, figsize=(15, 5))\n",
    "train_df[[\"microbusiness_density\"]].hist(bins=50, ax=axes[0]);\n",
    "train_df[[\"microbusiness_density\"]].boxplot(ax=axes[1],);"
   ]
  },
  {
   "cell_type": "code",
   "execution_count": 17,
   "id": "9834b7fc",
   "metadata": {},
   "outputs": [],
   "source": [
    "from typing import Tuple\n",
    "from sklearn.base import BaseEstimator, TransformerMixin\n",
    "\n",
    "\n",
    "def find_boxplot_boundaries(\n",
    "    col: pd.Series, whisker_coeff: float = 1.5\n",
    ") -> Tuple[float, float]:\n",
    "    \"\"\"Findx minimum and maximum in boxplot.\n",
    "\n",
    "    Args:\n",
    "        col: a pandas serires of input.\n",
    "        whisker_coeff: whisker coefficient in box plot\n",
    "    \"\"\"\n",
    "    Q1 = col.quantile(0.25)\n",
    "    Q3 = col.quantile(0.75)\n",
    "    IQR = Q3 - Q1\n",
    "    lower = Q1 - whisker_coeff * IQR\n",
    "    upper = Q3 + whisker_coeff * IQR\n",
    "    return lower, upper\n",
    "\n",
    "\n",
    "class BoxplotOutlierClipper(BaseEstimator, TransformerMixin):\n",
    "    def __init__(self, whisker_coeff: float = 1.5):\n",
    "        self.whisker = whisker_coeff\n",
    "        self.lower = None\n",
    "        self.upper = None\n",
    "\n",
    "    def fit(self, X: pd.Series):\n",
    "        self.lower, self.upper = find_boxplot_boundaries(X, self.whisker)\n",
    "        return self\n",
    "\n",
    "    def transform(self, X):\n",
    "        return X.clip(self.lower, self.upper)"
   ]
  },
  {
   "cell_type": "code",
   "execution_count": 30,
   "id": "b6d357b0",
   "metadata": {
    "scrolled": true
   },
   "outputs": [
    {
     "data": {
      "image/png": "[encoded data removed]",
      "text/plain": [
       "<Figure size 1500x500 with 2 Axes>"
      ]
     },
     "metadata": {},
     "output_type": "display_data"
    }
   ],
   "source": [
    "clipped_microbusiness_density = BoxplotOutlierClipper().fit_transform(train_df[\"microbusiness_density\"])\n",
    "\n",
    "fig, axes = plt.subplots(nrows=1, ncols=2, figsize=(15, 5))\n",
    "clipped_microbusiness_density.hist(bins=50, ax=axes[0])\n",
    "clipped_microbusiness_density.to_frame().boxplot(ax=axes[1],\n",
    "                                                 meanline = True,\n",
    "                                                 showmeans= True\n",
    "                                                    \n",
    "                                                \n",
    "                                                );"
   ]
  }
 ],
 "metadata": {
  "kernelspec": {
   "display_name": "Python 3 (ipykernel)",
   "language": "python",
   "name": "python3"
  },
  "language_info": {
   "codemirror_mode": {
    "name": "ipython",
    "version": 3
   },
   "file_extension": ".py",
   "mimetype": "text/x-python",
   "name": "python",
   "nbconvert_exporter": "python",
   "pygments_lexer": "ipython3",
   "version": "3.9.13"
  }
 },
 "nbformat": 4,
 "nbformat_minor": 5
}
